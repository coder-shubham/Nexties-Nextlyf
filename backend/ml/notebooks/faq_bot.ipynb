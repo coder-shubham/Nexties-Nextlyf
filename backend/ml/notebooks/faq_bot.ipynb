{
 "cells": [
  {
   "cell_type": "code",
   "execution_count": 1,
   "metadata": {},
   "outputs": [],
   "source": [
    "# function that takes below string and converts it to csv in the format question,answer\n",
    "# What is lyf by The Ascott?\n",
    "# lyf is a co-living brand by The Ascott that offers a hybrid of serviced residences and shared living spaces. It's designed for next-generation travelers who seek flexibility, community, and a sense of belonging.\n",
    "# \n",
    "# Which cities are lyf properties located in?\n",
    "# lyf properties are currently available in key cities such as Singapore, Bangkok, Tokyo, Kuala Lumpur, and more. Check the lyf website for an up-to-date list of locations.\n",
    "# \n",
    "# How do I make a booking at lyf?\n",
    "# You can book a stay via the lyf website, The Ascott mobile app, or through third-party booking platforms like Booking.com or Agoda.\n",
    "# \n",
    "# Can I book long-term stays?\n",
    "# Yes, lyf offers both short-term and long-term stay options. Discounts are available for extended stays depending on the property.\n",
    "# \n",
    "# Can I cancel or modify my booking?\n",
    "# Yes, but cancellation policies vary by location and booking type. Be sure to check the terms and conditions during booking for specific details.\n",
    "\n",
    "import pandas as pd\n",
    "\n",
    "def convert_to_csv(text):\n",
    "    lines = text.split(\"\\n\\n\")\n",
    "    questions = []\n",
    "    answers = []\n",
    "    for line in lines:\n",
    "        question, answer = line.split(\"\\n\")\n",
    "        # save in a list\n",
    "        questions.append(question)\n",
    "        answers.append(answer)\n",
    "    # create a dataframe\n",
    "    df = pd.DataFrame({\"question\": questions, \"answer\": answers})\n",
    "    # save to csv\n",
    "    df.to_csv(\"../data/faq.csv\", index=False)\n",
    "\n",
    "with open(\"../data/faq_doc.txt\", 'r') as f:\n",
    "    text = f.read()\n",
    "\n",
    "convert_to_csv(text)"
   ]
  },
  {
   "cell_type": "code",
   "execution_count": 9,
   "metadata": {},
   "outputs": [
    {
     "ename": "SyntaxError",
     "evalue": "invalid syntax (2921186178.py, line 1)",
     "output_type": "error",
     "traceback": [
      "\u001b[0;36m  Cell \u001b[0;32mIn[9], line 1\u001b[0;36m\u001b[0m\n\u001b[0;31m    from ../qa.vector_db import WeaviateDB\u001b[0m\n\u001b[0m           ^\u001b[0m\n\u001b[0;31mSyntaxError\u001b[0m\u001b[0;31m:\u001b[0m invalid syntax\n"
     ]
    }
   ],
   "source": [
    "from ml.src.qa.vector_db import WeaviateDB\n",
    "from ml.src.qa.embeddings import get_embeddings\n",
    "from ml.src.cfg import Cfg\n",
    "\n",
    "vector_db = WeaviateDB(\n",
    "    collection_name=Cfg.vector_db_collection_name, \n",
    "    vectorizer_fn=get_embeddings, \n",
    "    host=Cfg.vector_db_host, \n",
    "    port=Cfg.vector_db_port,\n",
    ")"
   ]
  },
  {
   "cell_type": "code",
   "execution_count": 6,
   "metadata": {},
   "outputs": [
    {
     "ename": "NameError",
     "evalue": "name 'db' is not defined",
     "output_type": "error",
     "traceback": [
      "\u001b[0;31m---------------------------------------------------------------------------\u001b[0m",
      "\u001b[0;31mNameError\u001b[0m                                 Traceback (most recent call last)",
      "Cell \u001b[0;32mIn[6], line 2\u001b[0m\n\u001b[1;32m      1\u001b[0m \u001b[38;5;66;03m# create a collection\u001b[39;00m\n\u001b[0;32m----> 2\u001b[0m \u001b[43mdb\u001b[49m\u001b[38;5;241m.\u001b[39mget_or_create_collection()\n\u001b[1;32m      4\u001b[0m \u001b[38;5;66;03m# insert data\u001b[39;00m\n\u001b[1;32m      5\u001b[0m db\u001b[38;5;241m.\u001b[39minsert_bulk(json_path\u001b[38;5;241m=\u001b[39m\u001b[38;5;124m\"\u001b[39m\u001b[38;5;124m../data/faq.csv\u001b[39m\u001b[38;5;124m\"\u001b[39m)\n",
      "\u001b[0;31mNameError\u001b[0m: name 'db' is not defined"
     ]
    }
   ],
   "source": [
    "# create a collection\n",
    "db.get_or_create_collection()\n",
    "\n",
    "# insert data\n",
    "db.insert_bulk(json_path=\"../data/faq.csv\")"
   ]
  },
  {
   "cell_type": "code",
   "execution_count": null,
   "metadata": {},
   "outputs": [],
   "source": [
    "# search\n",
    "question = \"What is lyf by The Ascott?\"\n",
    "response = db.get_similar(question, limit=2, alpha=0.5)\n",
    "response"
   ]
  },
  {
   "cell_type": "code",
   "execution_count": 5,
   "metadata": {},
   "outputs": [],
   "source": [
    "data = pd.read_csv(\"../data/faq.csv\").to_json(orient=\"records\")\n",
    "with open(\"../data/faq.json\", 'w') as f:\n",
    "    f.write(data)"
   ]
  },
  {
   "cell_type": "code",
   "execution_count": 17,
   "metadata": {},
   "outputs": [
    {
     "name": "stdout",
     "output_type": "stream",
     "text": [
      "\"'[{\"question\":\"What is lyf by The Ascott?\",\"answer\":\"lyf is a co-living brand by The Ascott that offers a hybrid of serviced residences and shared living spaces. It\\'s designed for next-generation travelers who seek flexibility, community, and a sense of belonging.\"},{\"question\":\"Which cities are lyf properties located in?\",\"answer\":\"lyf properties are currently available in key cities such as Singapore, Bangkok, Tokyo, Kuala Lumpur, and more. Check the lyf website for an up-to-date list of locations.\"},{\"question\":\"How do I make a booking at lyf?\",\"answer\":\"You can book a stay via the lyf website, The Ascott mobile app, or through third-party booking platforms like Booking.com or Agoda.\"},{\"question\":\"Can I book long-term stays?\",\"answer\":\"Yes, lyf offers both short-term and long-term stay options. Discounts are available for extended stays depending on the property.\"},{\"question\":\"Can I cancel or modify my booking?\",\"answer\":\"Yes, but cancellation policies vary by location and booking type. Be sure to check the terms and conditions during booking for specific details.\"},{\"question\":\"What types of rooms are available at lyf?\",\"answer\":\"lyf offers different types of rooms, including private rooms and shared living spaces. Room categories can range from \\\\\"One of a Kind\\\\\" (studio apartments) to \\\\\"All Together\\\\\" (larger units with shared facilities).\"},{\"question\":\"What amenities are included in lyf properties?\",\"answer\":\"Common amenities include free Wi-Fi, communal kitchens, laundry facilities, shared social spaces, fitness areas, and event spaces. Each property may offer unique features.\"},{\"question\":\"Do lyf properties offer private bathrooms?\",\"answer\":\"Yes, most private rooms come with an en-suite bathroom. In shared living spaces, bathrooms may be communal.\"},{\"question\":\"What kind of community activities can I expect at lyf?\",\"answer\":\"lyf hosts regular social events such as yoga sessions, networking meetups, cooking classes, and movie nights to foster community engagement among residents.\"},{\"question\":\"How can I meet other residents?\",\"answer\":\"lyf properties feature co-working spaces, lounges, and community kitchens where residents can gather and socialize. You can also participate in lyf\\'s organized events to meet other residents.\"},{\"question\":\"Are lyf properties safe?\",\"answer\":\"Yes, safety is a top priority. All properties are equipped with 24\\\\/7 security, keycard access, and surveillance cameras to ensure a secure living environment.\"},{\"question\":\"What COVID-19 precautions are taken at lyf properties?\",\"answer\":\"lyf adheres to local health guidelines and implements enhanced cleaning procedures, contactless check-in options, and social distancing in communal areas to ensure the safety of all guests.\"},{\"question\":\"How much does it cost to stay at lyf?\",\"answer\":\"Pricing varies by location, room type, and duration of stay. Long-term residents may receive discounted rates. Check the website for specific rates for each property.\"},{\"question\":\"What payment methods are accepted?\",\"answer\":\"lyf properties accept major credit cards, including Visa and MasterCard, as well as digital payment platforms like Apple Pay and Google Pay.\"},{\"question\":\"Do you require a deposit?\",\"answer\":\"A deposit may be required for long-term stays or special bookings. The amount and conditions vary by location.\"},{\"question\":\"What are the check-in and check-out times?\",\"answer\":\"Check-in times are typically 2 PM, and check-out is at 12 PM. Some properties may offer early check-in or late check-out depending on availability.\"},{\"question\":\"Is there a 24-hour front desk?\",\"answer\":\"Most lyf properties have 24-hour front desk services, ensuring that you can check-in or get assistance at any time.\"},{\"question\":\"What shared spaces are available at lyf properties?\",\"answer\":\"Shared spaces typically include lounges, communal kitchens, co-working areas, and recreational spaces. Some properties may also have gyms or rooftop terraces.\"},{\"question\":\"Are the shared spaces accessible to all residents?\",\"answer\":\"Yes, all residents have access to shared spaces. Some facilities, like event spaces or co-working areas, may require reservations.\"},{\"question\":\"Do lyf properties offer free Wi-Fi?\",\"answer\":\"Yes, all lyf properties offer high-speed internet access in both private rooms and shared spaces.\"},{\"question\":\"Are there smart home features in lyf properties?\",\"answer\":\"Some lyf properties may integrate smart home features such as smart thermostats, keyless entry, and energy-saving systems for enhanced convenience.\"},{\"question\":\"Can I work remotely from lyf properties?\",\"answer\":\"Yes, lyf properties are designed for digital nomads and remote workers. Many offer dedicated co-working spaces and strong internet connectivity to support your work needs.\"},{\"question\":\"Are there private working spaces available?\",\"answer\":\"Some lyf properties offer private meeting rooms or dedicated working spaces for an additional fee.\"},{\"question\":\"What sustainability initiatives does lyf implement?\",\"answer\":\"lyf properties often incorporate eco-friendly practices such as energy-efficient lighting, recycling programs, and water-saving measures. Some locations may also use renewable energy.\"},{\"question\":\"Are pets allowed at lyf properties?\",\"answer\":\"Pet policies vary by location. Some properties allow pets for long-term residents, while others do not. Check with your specific property for details.\"},{\"question\":\"Are lyf properties accessible for people with disabilities?\",\"answer\":\"Yes, lyf properties strive to be inclusive, offering accessible rooms and common areas. Contact the property ahead of time for any special requirements.\"},{\"question\":\"Does lyf have a loyalty program?\",\"answer\":\"Yes, lyf is part of The Ascott Limited\\'s loyalty program, Ascott Star Rewards (ASR), which allows you to earn points and redeem them for discounts on future stays.\"},{\"question\":\"Can I use lyf properties for business or events?\",\"answer\":\"Yes, many lyf locations offer event spaces and meeting rooms that can be booked for business or social events. You can also collaborate with the lyf team to organize events.\"},{\"question\":\"Can I have guests over at lyf properties?\",\"answer\":\"Yes, guests are typically allowed, but policies vary by property. Guests may be required to register at the front desk, and there may be restrictions on overnight stays.\"},{\"question\":\"Are there limits to how long guests can stay?\",\"answer\":\"Some properties may limit overnight stays to a certain number of days. It\\'s best to check with the individual property for their guest policy.\"},{\"question\":\"Do lyf properties offer dining services?\",\"answer\":\"Most lyf properties do not offer full dining services. However, communal kitchens are available where residents can cook their own meals, and some properties are located near popular dining spots.\"},{\"question\":\"Is there a grocery delivery service?\",\"answer\":\"Some lyf properties offer partnerships with local grocery delivery services, or you can use common delivery apps like Grab or Foodpanda depending on the country.\"},{\"question\":\"Do lyf properties offer laundry services?\",\"answer\":\"Yes, most lyf properties have self-service laundry facilities available to residents. Some properties may also offer additional dry cleaning or laundry services for a fee.\"},{\"question\":\"Is housekeeping included?\",\"answer\":\"Housekeeping services may be included or available for an additional fee depending on your length of stay and the property.\"},{\"question\":\"Is parking available at lyf properties?\",\"answer\":\"Parking availability varies by location. Some properties offer on-site parking for an additional fee, while others may have partnerships with nearby parking facilities.\"},{\"question\":\"Are lyf properties accessible by public transportation?\",\"answer\":\"Most lyf properties are located in central or well-connected areas that are easily accessible via public transport, such as buses, trains, or metro systems.\"},{\"question\":\"Can I request early check-in or late check-out?\",\"answer\":\"Early check-in and late check-out may be available upon request, depending on room availability. Additional charges may apply.\"},{\"question\":\"Does lyf have co-working partnerships?\",\"answer\":\"Some lyf properties partner with local co-working spaces or offer their own dedicated areas for remote workers, providing a seamless work-life experience.\"},{\"question\":\"Are there any networking opportunities at lyf properties?\",\"answer\":\"Yes, lyf regularly organizes networking events for entrepreneurs, freelancers, and business travelers to meet and collaborate.\"},{\"question\":\"How can I stay connected with the lyf community online?\",\"answer\":\"lyf properties are active on social media platforms like Instagram and Facebook. You can follow them for updates on events, promotions, and community activities.\"},{\"question\":\"Is there a lyf app for managing my stay?\",\"answer\":\"Yes, the Ascott Star Rewards (ASR) app allows you to manage your stay, earn loyalty points, and connect with other services offered by lyf.\"},{\"question\":\"Is there a pet-friendly lyf property?\",\"answer\":\"Some lyf properties offer pet-friendly accommodations for long-term stays. Pet policies, including size and breed restrictions, vary by property.\"},{\"question\":\"Are lyf properties suitable for families?\",\"answer\":\"lyf properties are designed with the modern traveler in mind, including small families. Larger room configurations are available, and some properties offer kid-friendly amenities or activities.\"},{\"question\":\"Do you provide cribs or baby cots?\",\"answer\":\"Some lyf properties may provide baby cots upon request. It\\'s advisable to check with the specific property in advance.\"},{\"question\":\"What are the rules for using shared spaces like the kitchen and lounge?\",\"answer\":\"Shared spaces are open to all residents, and etiquette is expected, such as cleaning up after use and respecting noise levels. Some spaces may also require reservations.\"},{\"question\":\"Can I personalize my room at lyf?\",\"answer\":\"While major alterations aren\\'t allowed, you can bring small decor items to make your space feel more personal during long-term stays.\"},{\"question\":\"Can I switch rooms during my stay?\",\"answer\":\"If you wish to switch rooms during your stay, you can request a room change, subject to availability and additional fees.\"},{\"question\":\"Can I host events at lyf properties?\",\"answer\":\"Yes, some lyf properties offer event spaces that can be rented for private events, including business meetings, workshops, or social gatherings.\"},{\"question\":\"Do I need to pay a security deposit?\",\"answer\":\"A security deposit may be required for long-term stays. The amount will vary by property and is typically refundable upon check-out if there are no damages.\"},{\"question\":\"Are lyf properties smoke-free?\",\"answer\":\"Yes, most lyf properties are smoke-free. There may be designated smoking areas outside the property.\"},{\"question\":\"Are there any ongoing promotions or discounts?\",\"answer\":\"lyf properties occasionally offer promotions for long-term stays, early bookings, or special events. Check their website or social media pages for current offers.\"},{\"question\":\"Do lyf properties have elevators?\",\"answer\":\"Yes, all lyf properties are equipped with elevators for easy access to all floors.\"},{\"question\":\"Do lyf properties offer fitness facilities?\",\"answer\":\"Many lyf properties offer on-site fitness facilities or partner with nearby gyms. Residents may also find wellness events like yoga classes available.\"},{\"question\":\"What should I do if I leave something behind?\",\"answer\":\"Contact the front desk of the lyf property where you stayed. They will assist in locating any lost items and arranging for their return.\"},{\"question\":\"Are there quiet hours at lyf properties?\",\"answer\":\"While lyf encourages community interaction, it also respects the need for quiet. Quiet hours may be enforced after a certain time to ensure restful stays.\"},{\"question\":\"Do lyf properties use renewable energy?\",\"answer\":\"Some lyf properties are incorporating renewable energy solutions like solar panels as part of their sustainability initiatives.\"},{\"question\":\"Can I earn loyalty points at lyf properties?\",\"answer\":\"Yes, lyf is part of The Ascott\\\\u2019s loyalty program, Ascott Star Rewards (ASR), which allows you to earn points for stays and redeem them for future bookings.\"},{\"question\":\"How fast is the Wi-Fi at lyf properties?\",\"answer\":\"lyf properties provide high-speed Wi-Fi suitable for both leisure and work needs, including streaming, video calls, and remote work.\"},{\"question\":\"What languages are spoken at lyf properties?\",\"answer\":\"Most lyf properties have staff that speak English, and other languages may be spoken depending on the location.\"},{\"question\":\"Is there a place to store my luggage if I arrive early or check out late?\",\"answer\":\"Yes, lyf properties typically offer luggage storage services for early arrivals and late departures.\"},{\"question\":\"Are lyf properties culturally sensitive?\",\"answer\":\"lyf embraces diversity and inclusivity. The properties are designed to be culturally sensitive, reflecting the local culture and customs of their host cities.\"},{\"question\":\"What are the average room sizes at lyf properties?\",\"answer\":\"Room sizes vary by property and room type. Private rooms tend to range from compact studio sizes to larger shared suites.\"},{\"question\":\"Do lyf properties have any green building certifications?\",\"answer\":\"Some lyf properties have earned certifications such as Green Mark or LEED, demonstrating their commitment to sustainable building practices.\"},{\"question\":\"Are the co-working spaces free to use?\",\"answer\":\"Yes, most lyf properties offer shared co-working spaces for free to all residents. However, private meeting rooms may require a reservation and additional fees.\"},{\"question\":\"Does lyf offer any workshops on sustainability?\",\"answer\":\"Some lyf properties host workshops on sustainability practices, recycling, or urban gardening as part of their community initiatives.\"},{\"question\":\"Is tech support available for residents?\",\"answer\":\"lyf properties may provide basic tech support for Wi-Fi or other connectivity issues. Major IT assistance might require external services.\"},{\"question\":\"Can I book multiple rooms for a group stay?\",\"answer\":\"Yes, you can book multiple rooms if you\\\\u2019re traveling with a group. Group booking discounts may also be available at some properties.\"},{\"question\":\"Does lyf offer cooking classes?\",\"answer\":\"Some lyf properties organize communal cooking events or private cooking lessons in the shared kitchens.\"},{\"question\":\"Are cleaning supplies available in shared spaces?\",\"answer\":\"Basic cleaning supplies are often available in communal kitchens for residents to use after preparing meals.\"},{\"question\":\"Can I hire a personal trainer during my stay?\",\"answer\":\"Some lyf properties may offer partnerships with local personal trainers or gyms where you can book sessions during your stay.\"},{\"question\":\"Are there special rates for freelancers or digital nomads?\",\"answer\":\"Some lyf properties offer special long-term rates for freelancers or digital nomads, especially those staying in co-living or co-working-focused rooms.\"},{\"question\":\"What should I do in case of an emergency?\",\"answer\":\"Each lyf property provides emergency contact information for local authorities and in-house emergency services. The front desk is available 24\\\\/7 to assist with emergencies.\"}]'\n"
     ]
    }
   ],
   "source": [
    "import pandas as pd\n",
    "\n",
    "print(repr(pd.read_csv(\"../data/faq.csv\").to_json(orient=\"records\")))"
   ]
  },
  {
   "cell_type": "code",
   "execution_count": null,
   "metadata": {},
   "outputs": [],
   "source": []
  }
 ],
 "metadata": {
  "kernelspec": {
   "display_name": ".venv",
   "language": "python",
   "name": "python3"
  },
  "language_info": {
   "codemirror_mode": {
    "name": "ipython",
    "version": 3
   },
   "file_extension": ".py",
   "mimetype": "text/x-python",
   "name": "python",
   "nbconvert_exporter": "python",
   "pygments_lexer": "ipython3",
   "version": "3.8.10"
  }
 },
 "nbformat": 4,
 "nbformat_minor": 2
}
