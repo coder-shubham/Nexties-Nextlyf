{
 "cells": [
  {
   "cell_type": "code",
   "execution_count": 1,
   "metadata": {},
   "outputs": [],
   "source": [
    "import pandas as pd"
   ]
  },
  {
   "cell_type": "code",
   "execution_count": 2,
   "metadata": {},
   "outputs": [
    {
     "data": {
      "text/html": [
       "<div>\n",
       "<style scoped>\n",
       "    .dataframe tbody tr th:only-of-type {\n",
       "        vertical-align: middle;\n",
       "    }\n",
       "\n",
       "    .dataframe tbody tr th {\n",
       "        vertical-align: top;\n",
       "    }\n",
       "\n",
       "    .dataframe thead th {\n",
       "        text-align: right;\n",
       "    }\n",
       "</style>\n",
       "<table border=\"1\" class=\"dataframe\">\n",
       "  <thead>\n",
       "    <tr style=\"text-align: right;\">\n",
       "      <th></th>\n",
       "      <th>Name</th>\n",
       "      <th>Place</th>\n",
       "      <th>Date</th>\n",
       "      <th>Start Time</th>\n",
       "      <th>End Time</th>\n",
       "      <th>Description</th>\n",
       "      <th>Type</th>\n",
       "      <th>Category</th>\n",
       "      <th>Price</th>\n",
       "      <th>Organizer</th>\n",
       "      <th>Contact</th>\n",
       "      <th>Website</th>\n",
       "      <th>Tags</th>\n",
       "      <th>Status</th>\n",
       "      <th>Created At</th>\n",
       "    </tr>\n",
       "  </thead>\n",
       "  <tbody>\n",
       "    <tr>\n",
       "      <th>0</th>\n",
       "      <td>Visionary scalable Internet solution</td>\n",
       "      <td>West Hannah</td>\n",
       "      <td>2024-08-04</td>\n",
       "      <td>20:13:15</td>\n",
       "      <td>03:43:08</td>\n",
       "      <td>Difference sometimes public strong matter even...</td>\n",
       "      <td>Webinar</td>\n",
       "      <td>Literature</td>\n",
       "      <td>86</td>\n",
       "      <td>Cook-Roberts</td>\n",
       "      <td>001-317-876-3700x351</td>\n",
       "      <td>https://harris-barrett.com/</td>\n",
       "      <td>onto, table, budget</td>\n",
       "      <td>Completed</td>\n",
       "      <td>2024-08-09 12:10:10</td>\n",
       "    </tr>\n",
       "    <tr>\n",
       "      <th>1</th>\n",
       "      <td>Seamless heuristic conglomeration</td>\n",
       "      <td>Michaelburgh</td>\n",
       "      <td>2024-05-26</td>\n",
       "      <td>19:34:09</td>\n",
       "      <td>12:52:30</td>\n",
       "      <td>Cover crime bill system realize. Capital oil b...</td>\n",
       "      <td>Conference</td>\n",
       "      <td>Fashion</td>\n",
       "      <td>61</td>\n",
       "      <td>Torres LLC</td>\n",
       "      <td>(694)441-8332x65626</td>\n",
       "      <td>https://rodriguez.com/</td>\n",
       "      <td>only, particularly, shake</td>\n",
       "      <td>Completed</td>\n",
       "      <td>2024-08-01 17:04:49</td>\n",
       "    </tr>\n",
       "    <tr>\n",
       "      <th>2</th>\n",
       "      <td>Multi-layered foreground info-mediaries</td>\n",
       "      <td>North Kellietown</td>\n",
       "      <td>2024-10-06</td>\n",
       "      <td>04:12:55</td>\n",
       "      <td>19:44:13</td>\n",
       "      <td>Data us network mission wear. Wrong staff boar...</td>\n",
       "      <td>Conference</td>\n",
       "      <td>Art</td>\n",
       "      <td>105</td>\n",
       "      <td>Hill PLC</td>\n",
       "      <td>558.553.1758x28101</td>\n",
       "      <td>http://www.lee.com/</td>\n",
       "      <td>then, treat, half</td>\n",
       "      <td>Ongoing</td>\n",
       "      <td>2024-09-10 15:57:59</td>\n",
       "    </tr>\n",
       "    <tr>\n",
       "      <th>3</th>\n",
       "      <td>Down-sized upward-trending structure</td>\n",
       "      <td>Reginaldburgh</td>\n",
       "      <td>2024-10-12</td>\n",
       "      <td>21:22:36</td>\n",
       "      <td>03:05:12</td>\n",
       "      <td>Weight back prove scene wrong executive partic...</td>\n",
       "      <td>Exhibition</td>\n",
       "      <td>Education</td>\n",
       "      <td>29</td>\n",
       "      <td>Garcia, Obrien and Ortiz</td>\n",
       "      <td>283-740-8406x909</td>\n",
       "      <td>http://www.patel.biz/</td>\n",
       "      <td>and, pick, full</td>\n",
       "      <td>Ongoing</td>\n",
       "      <td>2024-05-08 18:58:56</td>\n",
       "    </tr>\n",
       "    <tr>\n",
       "      <th>4</th>\n",
       "      <td>Triple-buffered contextually-based frame</td>\n",
       "      <td>Nelsonshire</td>\n",
       "      <td>2024-07-29</td>\n",
       "      <td>03:25:23</td>\n",
       "      <td>16:50:14</td>\n",
       "      <td>Expect determine person right knowledge happy....</td>\n",
       "      <td>Conference</td>\n",
       "      <td>Food</td>\n",
       "      <td>53</td>\n",
       "      <td>Johnson-Morales</td>\n",
       "      <td>+1-724-006-2135x24148</td>\n",
       "      <td>http://www.hogan.com/</td>\n",
       "      <td>organization, half, couple</td>\n",
       "      <td>Completed</td>\n",
       "      <td>2024-06-04 03:49:46</td>\n",
       "    </tr>\n",
       "  </tbody>\n",
       "</table>\n",
       "</div>"
      ],
      "text/plain": [
       "                                       Name             Place       Date  \\\n",
       "0      Visionary scalable Internet solution       West Hannah 2024-08-04   \n",
       "1         Seamless heuristic conglomeration      Michaelburgh 2024-05-26   \n",
       "2   Multi-layered foreground info-mediaries  North Kellietown 2024-10-06   \n",
       "3      Down-sized upward-trending structure     Reginaldburgh 2024-10-12   \n",
       "4  Triple-buffered contextually-based frame       Nelsonshire 2024-07-29   \n",
       "\n",
       "  Start Time  End Time                                        Description  \\\n",
       "0   20:13:15  03:43:08  Difference sometimes public strong matter even...   \n",
       "1   19:34:09  12:52:30  Cover crime bill system realize. Capital oil b...   \n",
       "2   04:12:55  19:44:13  Data us network mission wear. Wrong staff boar...   \n",
       "3   21:22:36  03:05:12  Weight back prove scene wrong executive partic...   \n",
       "4   03:25:23  16:50:14  Expect determine person right knowledge happy....   \n",
       "\n",
       "         Type    Category  Price                 Organizer  \\\n",
       "0     Webinar  Literature     86              Cook-Roberts   \n",
       "1  Conference     Fashion     61                Torres LLC   \n",
       "2  Conference         Art    105                  Hill PLC   \n",
       "3  Exhibition   Education     29  Garcia, Obrien and Ortiz   \n",
       "4  Conference        Food     53           Johnson-Morales   \n",
       "\n",
       "                 Contact                      Website  \\\n",
       "0   001-317-876-3700x351  https://harris-barrett.com/   \n",
       "1    (694)441-8332x65626       https://rodriguez.com/   \n",
       "2     558.553.1758x28101          http://www.lee.com/   \n",
       "3       283-740-8406x909        http://www.patel.biz/   \n",
       "4  +1-724-006-2135x24148        http://www.hogan.com/   \n",
       "\n",
       "                         Tags     Status          Created At  \n",
       "0         onto, table, budget  Completed 2024-08-09 12:10:10  \n",
       "1   only, particularly, shake  Completed 2024-08-01 17:04:49  \n",
       "2           then, treat, half    Ongoing 2024-09-10 15:57:59  \n",
       "3             and, pick, full    Ongoing 2024-05-08 18:58:56  \n",
       "4  organization, half, couple  Completed 2024-06-04 03:49:46  "
      ]
     },
     "execution_count": 2,
     "metadata": {},
     "output_type": "execute_result"
    }
   ],
   "source": [
    "data_path = \"../../../data/events_random_100.xlsx\"\n",
    "events_df = pd.read_excel(data_path)\n",
    "events_df.head()"
   ]
  },
  {
   "cell_type": "code",
   "execution_count": 3,
   "metadata": {},
   "outputs": [
    {
     "data": {
      "text/plain": [
       "100"
      ]
     },
     "execution_count": 3,
     "metadata": {},
     "output_type": "execute_result"
    }
   ],
   "source": [
    "len(events_df)"
   ]
  },
  {
   "cell_type": "code",
   "execution_count": 4,
   "metadata": {},
   "outputs": [
    {
     "data": {
      "text/plain": [
       "Place\n",
       "West Hannah         1\n",
       "Port David          1\n",
       "Derekborough        1\n",
       "Port Lisamouth      1\n",
       "Gambleburgh         1\n",
       "                   ..\n",
       "Josephport          1\n",
       "Lake Randallstad    1\n",
       "East Dana           1\n",
       "West Thomasberg     1\n",
       "Bellfurt            1\n",
       "Name: count, Length: 100, dtype: int64"
      ]
     },
     "execution_count": 4,
     "metadata": {},
     "output_type": "execute_result"
    }
   ],
   "source": [
    "events_df['Place'].value_counts()"
   ]
  },
  {
   "cell_type": "code",
   "execution_count": null,
   "metadata": {},
   "outputs": [],
   "source": []
  }
 ],
 "metadata": {
  "kernelspec": {
   "display_name": ".venv",
   "language": "python",
   "name": "python3"
  },
  "language_info": {
   "codemirror_mode": {
    "name": "ipython",
    "version": 3
   },
   "file_extension": ".py",
   "mimetype": "text/x-python",
   "name": "python",
   "nbconvert_exporter": "python",
   "pygments_lexer": "ipython3",
   "version": "3.8.10"
  }
 },
 "nbformat": 4,
 "nbformat_minor": 2
}
